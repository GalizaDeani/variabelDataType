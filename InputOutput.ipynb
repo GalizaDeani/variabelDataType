{
 "cells": [
  {
   "cell_type": "code",
   "execution_count": 2,
   "id": "db064448",
   "metadata": {},
   "outputs": [
    {
     "name": "stdout",
     "output_type": "stream",
     "text": [
      "Isikan Nama AwalGaliza\n",
      "Isikan Nama TengahNur\n",
      "Isikan Nama AkhirDeani\n",
      "Selamat Datang Galiza Nur Deani S.Kom\n"
     ]
    }
   ],
   "source": [
    "fname = input ('Isikan Nama Awal')\n",
    "mname = input ('Isikan Nama Tengah')\n",
    "Iname = input ('Isikan Nama Akhir')\n",
    "\n",
    "print('Selamat Datang',fname,mname,Iname,\"S.Kom\")\n"
   ]
  },
  {
   "cell_type": "code",
   "execution_count": 5,
   "id": "8fb46198",
   "metadata": {},
   "outputs": [
    {
     "name": "stdout",
     "output_type": "stream",
     "text": [
      "Isikan Bilangan 1:5\n",
      "Isikan Bilangan 2:6\n",
      "<class 'str'>\n",
      "Hasil Penjumlahan 11\n"
     ]
    }
   ],
   "source": [
    "bil1 = input ('Isikan Bilangan 1:')\n",
    "bil2 = input ('Isikan Bilangan 2:')\n",
    "print(type(bil1))\n",
    "hasil = int(bil1) + int (bil2)\n",
    "print ('Hasil Penjumlahan', hasil)"
   ]
  },
  {
   "cell_type": "code",
   "execution_count": 10,
   "id": "67f65aef",
   "metadata": {},
   "outputs": [
    {
     "name": "stdout",
     "output_type": "stream",
     "text": [
      "Isikan Panjang Persegi:5\n",
      "Isikan Luas Persegi:6\n",
      "Luas Persegi Panjang 30\n",
      "Keliling Persegi Panjang 22\n"
     ]
    }
   ],
   "source": [
    "#Luas => p * L\n",
    "#keliling => 2 * (p+l)\n",
    "\n",
    "P = input('Isikan Panjang Persegi:')\n",
    "l = input('Isikan Luas Persegi:')\n",
    "\n",
    "luas = int(p) * int(l)\n",
    "keliling = 2 * (int(p) + int (l))\n",
    "\n",
    "print ('Luas Persegi Panjang',luas)\n",
    "print ('Keliling Persegi Panjang',keliling)\n"
   ]
  },
  {
   "cell_type": "code",
   "execution_count": 13,
   "id": "87df6e2d",
   "metadata": {},
   "outputs": [
    {
     "name": "stdout",
     "output_type": "stream",
     "text": [
      "Januari####Februari####Maret####April\n"
     ]
    }
   ],
   "source": [
    "print (\"Januari\",\"Februari\",\"Maret\",\"April\", sep = \"#\"*4)"
   ]
  },
  {
   "cell_type": "code",
   "execution_count": 26,
   "id": "9fc43958",
   "metadata": {},
   "outputs": [
    {
     "name": "stdout",
     "output_type": "stream",
     "text": [
      "Senin@Selasa@Rabu@Kamis@Jumat@Sabtu@Minggu^-^"
     ]
    }
   ],
   "source": [
    "print (\"Senin\",\"Selasa\",\"Rabu\",\"Kamis\",\"Jumat\",\"Sabtu\",\"Minggu\", sep = \"@\", end = \"^-^\")"
   ]
  },
  {
   "cell_type": "code",
   "execution_count": 25,
   "id": "681d2ae6",
   "metadata": {},
   "outputs": [
    {
     "name": "stdout",
     "output_type": "stream",
     "text": [
      "Senin\n",
      "Selasa\n",
      "Rabu\n",
      "Kamis\n",
      "Jumat\n",
      "Sabtu\n",
      "Minggu^-^"
     ]
    }
   ],
   "source": [
    "print (\"Senin\",\"Selasa\",\"Rabu\",\"Kamis\",\"Jumat\",\"Sabtu\",\"Minggu\", sep = \"\\n\", end = \"^-^\")"
   ]
  },
  {
   "cell_type": "code",
   "execution_count": 21,
   "id": "4443ca6e",
   "metadata": {},
   "outputs": [
    {
     "name": "stdout",
     "output_type": "stream",
     "text": [
      "Perkalian 5 dengan 17 adalah 85\n"
     ]
    }
   ],
   "source": [
    "number1 = 5\n",
    "number2 = 17\n",
    "\n",
    "# Hasil perkalian 5 dengan 17 adalah 85\n",
    "print(\"Perkalian {} dengan {} adalah {}\".format(number1,number2,number1*number2)"
   ]
  },
  {
   "cell_type": "code",
   "execution_count": 30,
   "id": "69ce9d4a",
   "metadata": {},
   "outputs": [
    {
     "name": "stdout",
     "output_type": "stream",
     "text": [
      "Urutkan Huruf Deani Nur Galiza\n"
     ]
    }
   ],
   "source": [
    "first_letter = \"Galiza\"\n",
    "middle_letter = \"Nur\"\n",
    "last_letter = \"Deani\"\n",
    "\n",
    "print (\"Urutkan Huruf {2} {1} {0}\".format(first_letter,middle_letter,last_letter))"
   ]
  },
  {
   "cell_type": "code",
   "execution_count": 39,
   "id": "a1da5604",
   "metadata": {},
   "outputs": [
    {
     "name": "stdout",
     "output_type": "stream",
     "text": [
      "Sekarang tanggal 20 Bulan Maret Tahun 2024\n"
     ]
    }
   ],
   "source": [
    "# Sekarang tanggal 20 Bulan Maret Tahun 2024\n",
    "print(\"Sekarang tanggal {tanggal} Bulan {bulan} Tahun {tahun}\".format(tanggal = 20,bulan ='Maret',tahun =2024))"
   ]
  },
  {
   "cell_type": "code",
   "execution_count": 45,
   "id": "01dac6c1",
   "metadata": {},
   "outputs": [
    {
     "name": "stdout",
     "output_type": "stream",
     "text": [
      "Huruf Pertama adalah: U\n",
      "Huruf Terakhir adalah: a\n",
      "Huruf Range 0-10: Universitas\n",
      "Putra\n",
      "Nusa Putra\n",
      "artuP asuN satisrevinU\n"
     ]
    }
   ],
   "source": [
    "kampus = \"Universitas Nusa Putra\"\n",
    "print (\"Huruf Pertama adalah:\", kampus [0])\n",
    "print (\"Huruf Terakhir adalah:\", kampus [-1])\n",
    "print (\"Huruf Range 0-10:\", kampus [0:11])\n",
    "print (kampus [-5:])\n",
    "print (kampus [12:])\n",
    "# Reverse String\n",
    "print(kampus[::-1])"
   ]
  },
  {
   "cell_type": "code",
   "execution_count": 52,
   "id": "adfa67dc",
   "metadata": {},
   "outputs": [
    {
     "name": "stdout",
     "output_type": "stream",
     "text": [
      "['Jakarta', 'Sukabumi', 'Malang', 'Bandung', 'Surabaya']\n",
      "Jakarta\n",
      "Sukabumi\n",
      "Jakarta-Sukabumi-Malang-Bandung-Surabaya\n"
     ]
    }
   ],
   "source": [
    "# Split => String -> List\n",
    "kota = \"Jakarta Sukabumi Malang Bandung Surabaya\"\n",
    "list_kota = kota.split ()\n",
    "print(list_kota)\n",
    "print(list_kota [0])\n",
    "print(list_kota [1])\n",
    "#Join => List -> String\n",
    "join_kota = \"-\".join(list_kota)\n",
    "print(join_kota)"
   ]
  },
  {
   "cell_type": "code",
   "execution_count": 6,
   "id": "b6b39943",
   "metadata": {},
   "outputs": [
    {
     "name": "stdout",
     "output_type": "stream",
     "text": [
      "Isikan Nama Anda:Galiza Nur\n",
      "Isikan Tanggal Lahir:02/09/2004\n",
      "Nama Awal: Galiza\n",
      "Nama Akhir: Nur\n",
      "Nama Inisial: GN\n",
      "tanggal lahir: 02\n",
      "Bulan Lahir: 09 September\n",
      "tahun lahir: 2004\n"
     ]
    }
   ],
   "source": [
    "# Isikan Nama Anda : Galiza Nur\n",
    "# Isikan Tanggal Lahir : 02/09/2004\n",
    "# Output :\n",
    "# Nama Awal : Galiza\n",
    "# Nama Akhir : Nur\n",
    "# Tanggal Lahir : 20\n",
    "# Bulan lahir : 09\n",
    "# Tahun Lahir : 2004\n",
    "# Nama Inisial : GN\n",
    "\n",
    "nama = input (\"Isikan Nama Anda:\")\n",
    "tanggal = input (\"Isikan Tanggal Lahir:\")\n",
    "\n",
    "list_nama= nama.split()\n",
    "print(\"Nama Awal:\", list_nama[0])\n",
    "print(\"Nama Akhir:\", list_nama[1])\n",
    "\n",
    "inisial = list_nama[0][0] + list_nama[1][0]\n",
    "print(\"Nama Inisial:\",inisial) \n",
    "list_tanggal = tanggal.split('/')\n",
    "print(\"tanggal lahir:\", list_tanggal[0])\n",
    "keterangan = \"\"\n",
    "if list_tanggal[1]==\"01\":\n",
    "    keterangan =\"Januari\"\n",
    "elif list_tanggal[1]==\"02\":\n",
    "    keterangan = \"Februari\"\n",
    "elif list_tanggal[1]==\"03\":\n",
    "    keteranan = \"Maret\"\n",
    "elif list_tanggal[1]==\"04\":\n",
    "    keterangan = \"April\"\n",
    "elif list_tanggal[1]==\"04\":\n",
    "    keterangan = \"April\"\n",
    "elif list_tanggal[1]==\"05\":\n",
    "    keterangan = \"Mei\"\n",
    "elif list_tanggal[1]==\"06\":\n",
    "    keterangan = \"Juni\"\n",
    "elif list_tanggal[1]==\"07\":\n",
    "    keterangan = \"Juli\"\n",
    "elif list_tanggal[1]==\"08\":\n",
    "    keterangan = \"Agustus\"\n",
    "elif list_tanggal[1]==\"09\":\n",
    "    keterangan = \"September\"\n",
    "elif list_tanggal[1]==\"10\":\n",
    "    keterangan = \"Oktober\"\n",
    "elif list_tanggal[1]==\"11\":\n",
    "    keterangan = \"November\"\n",
    "elif list_tanggal[1]==\"12\":\n",
    "    keterangan = \"Desember\"\n",
    "print(\"Bulan Lahir:\", list_tanggal[1], keterangan)\n",
    "print(\"tahun lahir:\", list_tanggal[2])"
   ]
  },
  {
   "cell_type": "code",
   "execution_count": null,
   "id": "2c9681db",
   "metadata": {},
   "outputs": [],
   "source": []
  },
  {
   "cell_type": "code",
   "execution_count": null,
   "id": "39eb6999",
   "metadata": {},
   "outputs": [],
   "source": []
  },
  {
   "cell_type": "code",
   "execution_count": null,
   "id": "ad787160",
   "metadata": {},
   "outputs": [],
   "source": []
  }
 ],
 "metadata": {
  "kernelspec": {
   "display_name": "Python 3 (ipykernel)",
   "language": "python",
   "name": "python3"
  },
  "language_info": {
   "codemirror_mode": {
    "name": "ipython",
    "version": 3
   },
   "file_extension": ".py",
   "mimetype": "text/x-python",
   "name": "python",
   "nbconvert_exporter": "python",
   "pygments_lexer": "ipython3",
   "version": "3.9.12"
  }
 },
 "nbformat": 4,
 "nbformat_minor": 5
}
