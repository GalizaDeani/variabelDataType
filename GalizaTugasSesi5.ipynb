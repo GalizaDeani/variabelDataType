{
 "cells": [
  {
   "cell_type": "code",
   "execution_count": 6,
   "id": "ae9d5e81-3c16-4e4a-9932-abc7e2ed7e2f",
   "metadata": {},
   "outputs": [
    {
     "name": "stdin",
     "output_type": "stream",
     "text": [
      "Masukkan nama lengkap:  Galiza Nur Deani\n",
      "Masukkan tempat lahir:  Sukabumi\n",
      "Masukkan tanggal lahir (dd/mm/yyyy):  02/September/2004\n",
      "Masukkan alamat lengkap:  Jl.Bhayangkara Gg.Dewa NO.04\n",
      "Masukkan Jurusan:  Teknik Informatika\n"
     ]
    },
    {
     "name": "stdout",
     "output_type": "stream",
     "text": [
      "\n",
      "BIODATA\n",
      "Nama: Galiza Nur Deani\n",
      "Tempat, Tanggal Lahir: Sukabumi, 02/September/2004\n",
      "Alamat: Jl.Bhayangkara Gg.Dewa NO.04\n",
      "Jurusan: Teknik Informatika\n"
     ]
    }
   ],
   "source": [
    "# Input data\n",
    "nama = input(\"Masukkan nama lengkap: \")\n",
    "tempat_lahir = input(\"Masukkan tempat lahir: \")\n",
    "tanggal_lahir = input(\"Masukkan tanggal lahir (dd/mm/yyyy): \")\n",
    "alamat = input(\"Masukkan alamat lengkap: \")\n",
    "jurusan = input(\"Masukkan Jurusan: \")\n",
    "\n",
    "# Tampilkan biodata\n",
    "print(\"\\nBIODATA\")\n",
    "print(\"Nama: {}\".format(nama))\n",
    "print(\"Tempat, Tanggal Lahir: {}, {}\".format(tempat_lahir, tanggal_lahir))\n",
    "print(\"Alamat: {}\".format(alamat))\n",
    "print(\"Jurusan: {}\".format(jurusan))"
   ]
  },
  {
   "cell_type": "code",
   "execution_count": 20,
   "id": "27ce4ef0-c312-43f1-ad66-3e837d2eacd1",
   "metadata": {},
   "outputs": [
    {
     "name": "stdout",
     "output_type": "stream",
     "text": [
      "a. putra nusa\n",
      "b. NIVERSITAS NUS  PUT A SUKABUMIU\n",
      "c. SUKABUMI PUTRA NUSA UNIVERSITAS\n",
      "d. UN \n",
      "e. IVER ERSIT RA SUKABUMI\n"
     ]
    }
   ],
   "source": [
    "kalimat = \"UNIVERSITAS NUSA PUTRA SUKABUMI\"\n",
    "\n",
    "# a. putra nusa\n",
    "kata1 = kalimat.split()[2]\n",
    "kata2 = kalimat.split()[1]\n",
    "print(f\"a. {kata1.lower()} {kata2.lower()}\")\n",
    "\n",
    "# b. NIVERSITAS NSA PTRA SKABMI\n",
    "kata3 = kalimat[1:11]\n",
    "kata4 = kalimat[12:15]\n",
    "kata5 = kalimat[16:20]\n",
    "kata6 = kalimat[21:] + kalimat[:1]\n",
    "print(f\"b. {kata3} {kata4} {kata5} {kata6}\")\n",
    "\n",
    "# c. SUKABUMI PUTRA NUSA UNIVERSITAS\n",
    "kata7 = kalimat.split()[3]\n",
    "kata8 = kalimat.split()[2]\n",
    "kata9 = kalimat.split()[1]\n",
    "kata10 = kalimat.split()[0]\n",
    "print(f\"c. {kata7} {kata8} {kata9} {kata10}\")\n",
    "\n",
    "# d. UNPS\n",
    "kata11 = kalimat[0:2]\n",
    "kata12 = kalimat[2:2]\n",
    "kata13 = kalimat[16]\n",
    "print(f\"d. {kata11}{kata12}{kata13}\")\n",
    "\n",
    "# e. TAS SAPU BUMI\n",
    "kata14 = kalimat[2:6]\n",
    "kata15 = kalimat[4:9]\n",
    "kata16 = kalimat[20:]\n",
    "print(f\"e. {kata14} {kata15} {kata16}\")"
   ]
  },
  {
   "cell_type": "code",
   "execution_count": null,
   "id": "5409103b-deb6-499d-84b5-5ef6d0c20921",
   "metadata": {},
   "outputs": [],
   "source": []
  }
 ],
 "metadata": {
  "kernelspec": {
   "display_name": "Python 3 (ipykernel)",
   "language": "python",
   "name": "python3"
  },
  "language_info": {
   "codemirror_mode": {
    "name": "ipython",
    "version": 3
   },
   "file_extension": ".py",
   "mimetype": "text/x-python",
   "name": "python",
   "nbconvert_exporter": "python",
   "pygments_lexer": "ipython3",
   "version": "3.11.7"
  }
 },
 "nbformat": 4,
 "nbformat_minor": 5
}
