{
 "cells": [
  {
   "cell_type": "code",
   "execution_count": 67,
   "id": "ae9d5e81-3c16-4e4a-9932-abc7e2ed7e2f",
   "metadata": {},
   "outputs": [
    {
     "name": "stdin",
     "output_type": "stream",
     "text": [
      "Masukkan nama lengkap:  Galiza Nur Deani\n",
      "Masukkan tempat lahir:  Sukabumi\n",
      "Masukkan tanggal lahir (dd/mm/yyyy):  02/September/2004\n",
      "Masukkan alamat lengkap:  Jl.Bhayangkara Gg.Dewa NO.04\n",
      "Masukkan Jurusan:  Teknik Informatika\n"
     ]
    },
    {
     "name": "stdout",
     "output_type": "stream",
     "text": [
      "\n",
      "BIODATA\n",
      "Nama: Galiza Nur Deani\n",
      "Tempat, Tanggal Lahir: Sukabumi, 02/September/2004\n",
      "Alamat: Jl.Bhayangkara Gg.Dewa NO.04\n",
      "Jurusan: Teknik Informatika\n"
     ]
    }
   ],
   "source": [
    "# Input data\n",
    "nama = input(\"Masukkan nama lengkap: \")\n",
    "tempat_lahir = input(\"Masukkan tempat lahir: \")\n",
    "tanggal_lahir = input(\"Masukkan tanggal lahir (dd/mm/yyyy): \")\n",
    "alamat = input(\"Masukkan alamat lengkap: \")\n",
    "jurusan = input(\"Masukkan Jurusan: \")\n",
    "\n",
    "# Tampilkan biodata\n",
    "print(\"\\nBIODATA\")\n",
    "print(\"Nama: {}\".format(nama))\n",
    "print(\"Tempat, Tanggal Lahir: {}, {}\".format(tempat_lahir, tanggal_lahir))\n",
    "print(\"Alamat: {}\".format(alamat))\n",
    "print(\"Jurusan: {}\".format(jurusan))"
   ]
  },
  {
   "cell_type": "code",
   "execution_count": 66,
   "id": "5409103b-deb6-499d-84b5-5ef6d0c20921",
   "metadata": {},
   "outputs": [
    {
     "name": "stdout",
     "output_type": "stream",
     "text": [
      "putra nusa\n",
      "NIVERSITAS NSA PTRA SKABMI\n",
      "SUKABUMI PUTRA NUSA UNIVERSITAS\n",
      "UNPS\n",
      "TAS SA PU BUMI\n"
     ]
    }
   ],
   "source": [
    "# PUTRA NUSA\n",
    "nama_kampus = \"universitas nusa putra sukabumi\"\n",
    "nama_kampus = nama_kampus.split()\n",
    "print(nama_kampus[2]+ \" \" + nama_kampus[1])\n",
    "\n",
    "# NIVERSITAS NSA PTRA SKABMI\n",
    "nama_kampus = \"UNIVERSITAS NUSA PUTRA SUKABUMI\"\n",
    "nama_kampus = nama_kampus.replace(\"U\", \"\")\n",
    "print(nama_kampus)\n",
    "\n",
    "# SUKABUMI PUTRA NUSA UNIVERSITAS\n",
    "nama_kampus = \"UNIVERSITAS NUSA PUTRA SUKABUMI\"\n",
    "nama_kampus = nama_kampus.split()\n",
    "print(nama_kampus[3]+ \" \" + nama_kampus[2]+ \" \" + nama_kampus[1]+ \" \" + nama_kampus[0])\n",
    "\n",
    "# UNPS\n",
    "nama_kampus = \"UNIVERSITAS NUSA PUTRA SUKABUMI\"\n",
    "nama_kampus = nama_kampus.split()\n",
    "kampus = nama_kampus[0][0] + nama_kampus[1][0] + nama_kampus[2][0] + nama_kampus[3][0]\n",
    "print(kampus)\n",
    "\n",
    "# TAS SAPU BUMI\n",
    "nama_kampus = \"UNIVERSITAS NUSA PUTRA SUKABUMI\"\n",
    "print(nama_kampus [8:12] + nama_kampus[14:19]+ \" \"+ nama_kampus [27:])"
   ]
  }
 ],
 "metadata": {
  "kernelspec": {
   "display_name": "Python 3 (ipykernel)",
   "language": "python",
   "name": "python3"
  },
  "language_info": {
   "codemirror_mode": {
    "name": "ipython",
    "version": 3
   },
   "file_extension": ".py",
   "mimetype": "text/x-python",
   "name": "python",
   "nbconvert_exporter": "python",
   "pygments_lexer": "ipython3",
   "version": "3.11.7"
  }
 },
 "nbformat": 4,
 "nbformat_minor": 5
}
