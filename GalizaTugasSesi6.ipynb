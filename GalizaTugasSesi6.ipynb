{
 "cells": [
  {
   "cell_type": "code",
   "execution_count": 13,
   "id": "de6c37f8-be76-4ca9-a955-498624367acd",
   "metadata": {},
   "outputs": [
    {
     "name": "stdin",
     "output_type": "stream",
     "text": [
      "Masukkan umur anak (tahun):  6\n",
      "Masukkan tinggi anak (cm):  125\n"
     ]
    },
    {
     "name": "stdout",
     "output_type": "stream",
     "text": [
      "Tarif untuk anak berumur 6 tahun dengan tinggi 125 cm adalah Rp55000\n"
     ]
    }
   ],
   "source": [
    "umur = int(input(\"Masukkan umur anak (tahun): \"))\n",
    "tinggi = int(input(\"Masukkan tinggi anak (cm): \"))\n",
    "\n",
    "if umur < 2:\n",
    "    print(\"Dilarang masuk\")\n",
    "elif umur < 4:\n",
    "    tarif = 30000\n",
    "    if tinggi < 70:\n",
    "        tarif += 10000\n",
    "    print(f\"Tarif untuk anak berumur {umur} tahun dengan tinggi {tinggi} cm adalah Rp{tarif}\")\n",
    "elif umur < 7:\n",
    "    tarif = 40000\n",
    "    if tinggi > 120:\n",
    "        tarif += 15000\n",
    "    print(f\"Tarif untuk anak berumur {umur} tahun dengan tinggi {tinggi} cm adalah Rp{tarif}\")\n",
    "elif umur < 10:\n",
    "    tarif = 50000\n",
    "    if tinggi > 150:\n",
    "        tarif += 20000\n",
    "    print(f\"Tarif untuk anak berumur {umur} tahun dengan tinggi {tinggi} cm adalah Rp{tarif}\")\n",
    "else:\n",
    "    tarif = 80000\n",
    "    print(f\"Tarif untuk anak berumur {umur} tahun dengan tinggi {tinggi} cm adalah Rp{tarif}\")"
   ]
  },
  {
   "cell_type": "code",
   "execution_count": null,
   "id": "129f3499-e44b-4c39-b9a8-6771a57a841e",
   "metadata": {},
   "outputs": [],
   "source": []
  },
  {
   "cell_type": "code",
   "execution_count": null,
   "id": "0adae25d-dd62-4edd-bc9b-73b96fca5808",
   "metadata": {},
   "outputs": [],
   "source": []
  }
 ],
 "metadata": {
  "kernelspec": {
   "display_name": "Python 3 (ipykernel)",
   "language": "python",
   "name": "python3"
  },
  "language_info": {
   "codemirror_mode": {
    "name": "ipython",
    "version": 3
   },
   "file_extension": ".py",
   "mimetype": "text/x-python",
   "name": "python",
   "nbconvert_exporter": "python",
   "pygments_lexer": "ipython3",
   "version": "3.11.7"
  }
 },
 "nbformat": 4,
 "nbformat_minor": 5
}
